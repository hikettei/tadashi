{
 "cells": [
  {
   "cell_type": "code",
   "execution_count": 13,
   "id": "cf7cd077-6511-4326-987a-ab640c3d83a3",
   "metadata": {
    "tags": []
   },
   "outputs": [],
   "source": [
    "%display latex\n",
    "from sage.symbolic.expression_conversions import Converter\n",
    "import operator\n",
    "conv = Converter()\n",
    "var(\"i i0 j j0\");"
   ]
  },
  {
   "cell_type": "code",
   "execution_count": 14,
   "id": "b159dffc-93a5-41cd-81ed-1bebf5560537",
   "metadata": {
    "tags": []
   },
   "outputs": [
    {
     "data": {
      "text/html": [
       "<html>\\(\\displaystyle \\left[\\left(-3\\right) \\leq j, j \\leq 2, 0 \\leq i + j, i \\leq 5\\right]\\)</html>"
      ],
      "text/latex": [
       "$\\displaystyle \\left[\\left(-3\\right) \\leq j, j \\leq 2, 0 \\leq i + j, i \\leq 5\\right]$"
      ],
      "text/plain": [
       "[-3 <= j, j <= 2, 0 <= i + j, i <= 5]"
      ]
     },
     "execution_count": 14,
     "metadata": {},
     "output_type": "execute_result"
    }
   ],
   "source": [
    "tile = [\n",
    "    -3 <= j,\n",
    "    j <= 2,\n",
    "    0 <= i + j,\n",
    "    i <= 5\n",
    "]\n",
    "tile"
   ]
  },
  {
   "cell_type": "code",
   "execution_count": 15,
   "id": "b49fa36f-7a55-4ec3-8d63-a265f1759dbb",
   "metadata": {
    "tags": []
   },
   "outputs": [
    {
     "data": {
      "text/html": [
       "<html>\\(\\displaystyle \\left(\\begin{array}{rrr}\n",
       "0 & 1 & 3 \\\\\n",
       "0 & -1 & 2 \\\\\n",
       "1 & 1 & 0 \\\\\n",
       "1 & 0 & 5\n",
       "\\end{array}\\right)\\)</html>"
      ],
      "text/latex": [
       "$\\displaystyle \\left(\\begin{array}{rrr}\n",
       "0 & 1 & 3 \\\\\n",
       "0 & -1 & 2 \\\\\n",
       "1 & 1 & 0 \\\\\n",
       "1 & 0 & 5\n",
       "\\end{array}\\right)$"
      ],
      "text/plain": [
       "[ 0  1  3]\n",
       "[ 0 -1  2]\n",
       "[ 1  1  0]\n",
       "[ 1  0  5]"
      ]
     },
     "execution_count": 15,
     "metadata": {},
     "output_type": "execute_result"
    }
   ],
   "source": [
    "mattile = Matrix([\n",
    "    [0, 1, 3],\n",
    "    [0, -1, 2],\n",
    "    [1, 1, 0],\n",
    "    [1, 0, 5]\n",
    "])\n",
    "mattile"
   ]
  },
  {
   "cell_type": "code",
   "execution_count": 16,
   "id": "c6b2d284-a743-48b7-97b9-959496ef5c5c",
   "metadata": {
    "tags": []
   },
   "outputs": [
    {
     "data": {
      "text/html": [
       "<html>\\(\\displaystyle \\left[0 \\leq j + 3, 0 \\leq -j + 2, 0 \\leq i + j, 0 \\leq i + 5\\right]\\)</html>"
      ],
      "text/latex": [
       "$\\displaystyle \\left[0 \\leq j + 3, 0 \\leq -j + 2, 0 \\leq i + j, 0 \\leq i + 5\\right]$"
      ],
      "text/plain": [
       "[0 <= j + 3, 0 <= -j + 2, 0 <= i + j, 0 <= i + 5]"
      ]
     },
     "execution_count": 16,
     "metadata": {},
     "output_type": "execute_result"
    }
   ],
   "source": [
    "def mat2ineqs(m, vars):\n",
    "    result = []\n",
    "    nvars = len(vars)\n",
    "    vars_matrix = Matrix([vars])\n",
    "    for row in m:\n",
    "        lhs = row * vars_matrix.transpose()\n",
    "        result.append(0 <= lhs[0])\n",
    "    return result\n",
    "\n",
    "mtile = mat2ineqs(mattile, [i, j, 1])\n",
    "mtile"
   ]
  },
  {
   "cell_type": "code",
   "execution_count": 17,
   "id": "50e5a3ec-4b98-4434-b5bd-83b4d5aa1490",
   "metadata": {
    "tags": []
   },
   "outputs": [
    {
     "data": {
      "text/html": [
       "<html>\\(\\displaystyle \\mathrm{False}\\)</html>"
      ],
      "text/latex": [
       "$\\displaystyle \\mathrm{False}$"
      ],
      "text/plain": [
       "False"
      ]
     },
     "execution_count": 17,
     "metadata": {},
     "output_type": "execute_result"
    }
   ],
   "source": [
    "tile[0] == mtile[0]"
   ]
  },
  {
   "cell_type": "code",
   "execution_count": 18,
   "id": "095c2baf-8bda-43b4-846f-5acd58f09a81",
   "metadata": {
    "tags": []
   },
   "outputs": [
    {
     "data": {
      "text/html": [
       "<html>\\(\\displaystyle \\left(\\left(-3\\right) \\leq j, 0 \\leq j + 3\\right)\\)</html>"
      ],
      "text/latex": [
       "$\\displaystyle \\left(\\left(-3\\right) \\leq j, 0 \\leq j + 3\\right)$"
      ],
      "text/plain": [
       "(-3 <= j, 0 <= j + 3)"
      ]
     },
     "execution_count": 18,
     "metadata": {},
     "output_type": "execute_result"
    }
   ],
   "source": [
    "tile[0], mtile[0]"
   ]
  },
  {
   "cell_type": "code",
   "execution_count": 20,
   "id": "85c56941-5285-4997-a224-37e9fe080a01",
   "metadata": {
    "tags": []
   },
   "outputs": [
    {
     "ename": "NotImplementedError",
     "evalue": "relation",
     "output_type": "error",
     "traceback": [
      "\u001b[0;31m---------------------------------------------------------------------------\u001b[0m",
      "\u001b[0;31mNotImplementedError\u001b[0m                       Traceback (most recent call last)",
      "Cell \u001b[0;32mIn[20], line 1\u001b[0m\n\u001b[0;32m----> 1\u001b[0m \u001b[43mConverter\u001b[49m\u001b[43m(\u001b[49m\u001b[43m)\u001b[49m\u001b[38;5;241;43m.\u001b[39;49m\u001b[43mrelation\u001b[49m\u001b[43m(\u001b[49m\u001b[43mtile\u001b[49m\u001b[43m[\u001b[49m\u001b[43mInteger\u001b[49m\u001b[43m(\u001b[49m\u001b[38;5;241;43m0\u001b[39;49m\u001b[43m)\u001b[49m\u001b[43m]\u001b[49m\u001b[43m,\u001b[49m\u001b[43m \u001b[49m\u001b[43moperator\u001b[49m\u001b[38;5;241;43m.\u001b[39;49m\u001b[43mle\u001b[49m\u001b[43m)\u001b[49m\n",
      "File \u001b[0;32m/usr/lib/python3.10/site-packages/sage/symbolic/expression_conversions.py:329\u001b[0m, in \u001b[0;36mConverter.relation\u001b[0;34m(self, ex, operator)\u001b[0m\n\u001b[1;32m    311\u001b[0m \u001b[38;5;28;01mdef\u001b[39;00m \u001b[38;5;21mrelation\u001b[39m(\u001b[38;5;28mself\u001b[39m, ex, operator):\n\u001b[1;32m    312\u001b[0m \u001b[38;5;250m    \u001b[39m\u001b[38;5;124;03m\"\"\"\u001b[39;00m\n\u001b[1;32m    313\u001b[0m \u001b[38;5;124;03m    The input to this method is a symbolic expression which\u001b[39;00m\n\u001b[1;32m    314\u001b[0m \u001b[38;5;124;03m    corresponds to a relation.\u001b[39;00m\n\u001b[0;32m   (...)\u001b[0m\n\u001b[1;32m    327\u001b[0m \u001b[38;5;124;03m        NotImplementedError: relation\u001b[39;00m\n\u001b[1;32m    328\u001b[0m \u001b[38;5;124;03m    \"\"\"\u001b[39;00m\n\u001b[0;32m--> 329\u001b[0m     \u001b[38;5;28;01mraise\u001b[39;00m \u001b[38;5;167;01mNotImplementedError\u001b[39;00m(\u001b[38;5;124m\"\u001b[39m\u001b[38;5;124mrelation\u001b[39m\u001b[38;5;124m\"\u001b[39m)\n",
      "\u001b[0;31mNotImplementedError\u001b[0m: relation"
     ]
    }
   ],
   "source": [
    "Converter().relation(tile[0], operator.le)"
   ]
  },
  {
   "cell_type": "code",
   "execution_count": null,
   "id": "0f8a59aa-6e59-439d-89d2-83221989fd58",
   "metadata": {},
   "outputs": [],
   "source": []
  }
 ],
 "metadata": {
  "kernelspec": {
   "display_name": "SageMath 9.8",
   "language": "sage",
   "name": "sagemath"
  },
  "language_info": {
   "codemirror_mode": {
    "name": "ipython",
    "version": 3
   },
   "file_extension": ".py",
   "mimetype": "text/x-python",
   "name": "python",
   "nbconvert_exporter": "python",
   "pygments_lexer": "ipython3",
   "version": "3.10.10"
  }
 },
 "nbformat": 4,
 "nbformat_minor": 5
}
